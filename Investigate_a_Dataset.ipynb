{
 "cells": [
  {
   "cell_type": "markdown",
   "metadata": {},
   "source": [
    "\n",
    "\n",
    "# Project: Investigate a Movie Database\n",
    "\n",
    "## Table of Contents\n",
    "<ul>\n",
    "<li><a href=\"#intro\">Introduction</a></li>\n",
    "<li><a href=\"#wrangling\">Data Wrangling</a></li>\n",
    "<li><a href=\"#eda\">Exploratory Data Analysis</a></li>\n",
    "<li><a href=\"#conclusions\">Conclusions</a></li>\n",
    "</ul>"
   ]
  },
  {
   "cell_type": "markdown",
   "metadata": {},
   "source": [
    "<a id='intro'></a>\n",
    "## Introduction\n",
    "\n",
    "> For Data Analysis, we have selected a database that contains information about movies.This database has details about the list of movies with the time and date they have released, Also name of the director,productuon company and the cast details.It also has the budget and revenue details for most of the movies.\n",
    "> Our Approach will start with Data Wrangling and cleaning where we will load the data and start cleaning the database to make the data more approprate for data analysing.Then we will perform data anaysis on the cleaned data and communicate the results through visualization\n",
    "> Below are the different factors are considered for this Analysis\n",
    "\n",
    "1. Number of Movies released on each genre for the past 5 years \n",
    "2. Analyze the budget,revenue,popularity and vote average based on the genres\n",
    "3. Find the co-relation between budget and revenue, Does it have postive or negative or zero correlation ?\n",
    "4. List of successful producion companies ?\n",
    "5. Does runtime of the movie affects popularity?"
   ]
  },
  {
   "cell_type": "code",
   "execution_count": 51,
   "metadata": {
    "collapsed": true
   },
   "outputs": [],
   "source": [
    "import pandas as pd\n",
    "import numpy as np\n",
    "import matplotlib.pyplot as plt \n",
    "%matplotlib inline\n"
   ]
  },
  {
   "cell_type": "markdown",
   "metadata": {},
   "source": [
    "<a id='wrangling'></a>\n",
    "## Data Wrangling:\n"
   ]
  },
  {
   "cell_type": "code",
   "execution_count": 52,
   "metadata": {},
   "outputs": [
    {
     "data": {
      "text/html": [
       "<div>\n",
       "<style>\n",
       "    .dataframe thead tr:only-child th {\n",
       "        text-align: right;\n",
       "    }\n",
       "\n",
       "    .dataframe thead th {\n",
       "        text-align: left;\n",
       "    }\n",
       "\n",
       "    .dataframe tbody tr th {\n",
       "        vertical-align: top;\n",
       "    }\n",
       "</style>\n",
       "<table border=\"1\" class=\"dataframe\">\n",
       "  <thead>\n",
       "    <tr style=\"text-align: right;\">\n",
       "      <th></th>\n",
       "      <th>id</th>\n",
       "      <th>imdb_id</th>\n",
       "      <th>popularity</th>\n",
       "      <th>budget</th>\n",
       "      <th>revenue</th>\n",
       "      <th>original_title</th>\n",
       "      <th>cast</th>\n",
       "      <th>homepage</th>\n",
       "      <th>director</th>\n",
       "      <th>tagline</th>\n",
       "      <th>...</th>\n",
       "      <th>overview</th>\n",
       "      <th>runtime</th>\n",
       "      <th>genres</th>\n",
       "      <th>production_companies</th>\n",
       "      <th>release_date</th>\n",
       "      <th>vote_count</th>\n",
       "      <th>vote_average</th>\n",
       "      <th>release_year</th>\n",
       "      <th>budget_adj</th>\n",
       "      <th>revenue_adj</th>\n",
       "    </tr>\n",
       "  </thead>\n",
       "  <tbody>\n",
       "    <tr>\n",
       "      <th>0</th>\n",
       "      <td>135397</td>\n",
       "      <td>tt0369610</td>\n",
       "      <td>32.985763</td>\n",
       "      <td>150000000</td>\n",
       "      <td>1513528810</td>\n",
       "      <td>Jurassic World</td>\n",
       "      <td>Chris Pratt|Bryce Dallas Howard|Irrfan Khan|Vi...</td>\n",
       "      <td>http://www.jurassicworld.com/</td>\n",
       "      <td>Colin Trevorrow</td>\n",
       "      <td>The park is open.</td>\n",
       "      <td>...</td>\n",
       "      <td>Twenty-two years after the events of Jurassic ...</td>\n",
       "      <td>124</td>\n",
       "      <td>Action|Adventure|Science Fiction|Thriller</td>\n",
       "      <td>Universal Studios|Amblin Entertainment|Legenda...</td>\n",
       "      <td>6/9/15</td>\n",
       "      <td>5562</td>\n",
       "      <td>6.5</td>\n",
       "      <td>2015</td>\n",
       "      <td>1.379999e+08</td>\n",
       "      <td>1.392446e+09</td>\n",
       "    </tr>\n",
       "    <tr>\n",
       "      <th>1</th>\n",
       "      <td>76341</td>\n",
       "      <td>tt1392190</td>\n",
       "      <td>28.419936</td>\n",
       "      <td>150000000</td>\n",
       "      <td>378436354</td>\n",
       "      <td>Mad Max: Fury Road</td>\n",
       "      <td>Tom Hardy|Charlize Theron|Hugh Keays-Byrne|Nic...</td>\n",
       "      <td>http://www.madmaxmovie.com/</td>\n",
       "      <td>George Miller</td>\n",
       "      <td>What a Lovely Day.</td>\n",
       "      <td>...</td>\n",
       "      <td>An apocalyptic story set in the furthest reach...</td>\n",
       "      <td>120</td>\n",
       "      <td>Action|Adventure|Science Fiction|Thriller</td>\n",
       "      <td>Village Roadshow Pictures|Kennedy Miller Produ...</td>\n",
       "      <td>5/13/15</td>\n",
       "      <td>6185</td>\n",
       "      <td>7.1</td>\n",
       "      <td>2015</td>\n",
       "      <td>1.379999e+08</td>\n",
       "      <td>3.481613e+08</td>\n",
       "    </tr>\n",
       "  </tbody>\n",
       "</table>\n",
       "<p>2 rows × 21 columns</p>\n",
       "</div>"
      ],
      "text/plain": [
       "       id    imdb_id  popularity     budget     revenue      original_title  \\\n",
       "0  135397  tt0369610   32.985763  150000000  1513528810      Jurassic World   \n",
       "1   76341  tt1392190   28.419936  150000000   378436354  Mad Max: Fury Road   \n",
       "\n",
       "                                                cast  \\\n",
       "0  Chris Pratt|Bryce Dallas Howard|Irrfan Khan|Vi...   \n",
       "1  Tom Hardy|Charlize Theron|Hugh Keays-Byrne|Nic...   \n",
       "\n",
       "                        homepage         director             tagline  \\\n",
       "0  http://www.jurassicworld.com/  Colin Trevorrow   The park is open.   \n",
       "1    http://www.madmaxmovie.com/    George Miller  What a Lovely Day.   \n",
       "\n",
       "       ...                                                overview runtime  \\\n",
       "0      ...       Twenty-two years after the events of Jurassic ...     124   \n",
       "1      ...       An apocalyptic story set in the furthest reach...     120   \n",
       "\n",
       "                                      genres  \\\n",
       "0  Action|Adventure|Science Fiction|Thriller   \n",
       "1  Action|Adventure|Science Fiction|Thriller   \n",
       "\n",
       "                                production_companies release_date vote_count  \\\n",
       "0  Universal Studios|Amblin Entertainment|Legenda...       6/9/15       5562   \n",
       "1  Village Roadshow Pictures|Kennedy Miller Produ...      5/13/15       6185   \n",
       "\n",
       "   vote_average  release_year    budget_adj   revenue_adj  \n",
       "0           6.5          2015  1.379999e+08  1.392446e+09  \n",
       "1           7.1          2015  1.379999e+08  3.481613e+08  \n",
       "\n",
       "[2 rows x 21 columns]"
      ]
     },
     "execution_count": 52,
     "metadata": {},
     "output_type": "execute_result"
    }
   ],
   "source": [
    "# Load our data and print out a few lines\n",
    "df = pd.read_csv('tmdb-movies.csv')\n",
    "\n",
    "#Read the data\n",
    "df.head(2)"
   ]
  },
  {
   "cell_type": "markdown",
   "metadata": {},
   "source": [
    "\n",
    "\n",
    "### Data Cleaning:"
   ]
  },
  {
   "cell_type": "code",
   "execution_count": 3,
   "metadata": {
    "collapsed": true
   },
   "outputs": [],
   "source": [
    "#change the datatype of genre from float to string\n",
    "df['genres'] = df['genres'].astype(str)"
   ]
  },
  {
   "cell_type": "code",
   "execution_count": 4,
   "metadata": {
    "collapsed": true
   },
   "outputs": [],
   "source": [
    "#Considering only the first genre as the genre of the film\n",
    "df['genres'] = df['genres'].apply(lambda x: x.split(\"|\")[0])"
   ]
  },
  {
   "cell_type": "code",
   "execution_count": 5,
   "metadata": {
    "collapsed": true
   },
   "outputs": [],
   "source": [
    "#dropping the rows which has no genre listed.\n",
    "df.drop(df.query('genres == \"nan\"').index,axis=0,inplace=True)"
   ]
  },
  {
   "cell_type": "code",
   "execution_count": 6,
   "metadata": {},
   "outputs": [
    {
     "name": "stdout",
     "output_type": "stream",
     "text": [
      "<class 'pandas.core.frame.DataFrame'>\n",
      "Int64Index: 10843 entries, 0 to 10865\n",
      "Data columns (total 21 columns):\n",
      "id                      10843 non-null int64\n",
      "imdb_id                 10835 non-null object\n",
      "popularity              10843 non-null float64\n",
      "budget                  10843 non-null int64\n",
      "revenue                 10843 non-null int64\n",
      "original_title          10843 non-null object\n",
      "cast                    10768 non-null object\n",
      "homepage                2931 non-null object\n",
      "director                10801 non-null object\n",
      "tagline                 8037 non-null object\n",
      "keywords                9368 non-null object\n",
      "overview                10840 non-null object\n",
      "runtime                 10843 non-null int64\n",
      "genres                  10843 non-null object\n",
      "production_companies    9827 non-null object\n",
      "release_date            10843 non-null object\n",
      "vote_count              10843 non-null int64\n",
      "vote_average            10843 non-null float64\n",
      "release_year            10843 non-null int64\n",
      "budget_adj              10843 non-null float64\n",
      "revenue_adj             10843 non-null float64\n",
      "dtypes: float64(4), int64(6), object(11)\n",
      "memory usage: 1.8+ MB\n"
     ]
    }
   ],
   "source": [
    "#confirm changes\n",
    "df.info()"
   ]
  },
  {
   "cell_type": "code",
   "execution_count": 7,
   "metadata": {
    "collapsed": true
   },
   "outputs": [],
   "source": [
    "#dropping few unwanted columns\n",
    "df.drop(['tagline','imdb_id','homepage','keywords','overview','director','production_companies'],axis=1,inplace=True)\n"
   ]
  },
  {
   "cell_type": "code",
   "execution_count": 8,
   "metadata": {},
   "outputs": [
    {
     "name": "stdout",
     "output_type": "stream",
     "text": [
      "<class 'pandas.core.frame.DataFrame'>\n",
      "Int64Index: 10843 entries, 0 to 10865\n",
      "Data columns (total 14 columns):\n",
      "id                10843 non-null int64\n",
      "popularity        10843 non-null float64\n",
      "budget            10843 non-null int64\n",
      "revenue           10843 non-null int64\n",
      "original_title    10843 non-null object\n",
      "cast              10768 non-null object\n",
      "runtime           10843 non-null int64\n",
      "genres            10843 non-null object\n",
      "release_date      10843 non-null object\n",
      "vote_count        10843 non-null int64\n",
      "vote_average      10843 non-null float64\n",
      "release_year      10843 non-null int64\n",
      "budget_adj        10843 non-null float64\n",
      "revenue_adj       10843 non-null float64\n",
      "dtypes: float64(4), int64(6), object(4)\n",
      "memory usage: 1.2+ MB\n"
     ]
    }
   ],
   "source": [
    "#confirm changes\n",
    "df.info()"
   ]
  },
  {
   "cell_type": "markdown",
   "metadata": {},
   "source": [
    "<a id='eda'></a>\n",
    "## Exploratory Data Analysis\n",
    "\n",
    "\n",
    "\n",
    "### 1. Number of Movies released on each genre for the past 5 years"
   ]
  },
  {
   "cell_type": "code",
   "execution_count": 9,
   "metadata": {},
   "outputs": [
    {
     "data": {
      "text/plain": [
       "Text(0,0.5,'No.of Movies')"
      ]
     },
     "execution_count": 9,
     "metadata": {},
     "output_type": "execute_result"
    },
    {
     "data": {
      "image/png": "[encoded data removed]",
      "text/plain": [
       "<matplotlib.figure.Figure at 0x7f1fcd367dd8>"
      ]
     },
     "metadata": {},
     "output_type": "display_data"
    }
   ],
   "source": [
    "#1 Number of Movies released on each genre for the past 5 years\n",
    "\n",
    "df_5 = df[df['release_year'] > 2010]\n",
    "gen_ct = df_5.groupby(['genres'])['id'].count()\n",
    "\n",
    "\n",
    "Action = gen_ct['Action']\n",
    "Adventure = gen_ct['Adventure']\n",
    "Animation = gen_ct['Animation']\n",
    "Comedy = gen_ct['Comedy']\n",
    "Crime = gen_ct['Crime']\n",
    "Documentary = gen_ct['Documentary']\n",
    "Drama = gen_ct['Drama']\n",
    "Family = gen_ct['Family']\n",
    "Fantasy = gen_ct['Fantasy']\n",
    "Foreign = gen_ct['Foreign']\n",
    "History = gen_ct['History']\n",
    "Horror = gen_ct['Horror']\n",
    "Music = gen_ct['Music']\n",
    "Mystery = gen_ct['Mystery']\n",
    "Romance = gen_ct['Romance']\n",
    "Science_Fiction = gen_ct['Science Fiction']\n",
    "TV_Movie = gen_ct['TV Movie']\n",
    "Thriller = gen_ct['Thriller']\n",
    "War = gen_ct['War']\n",
    "Western = gen_ct['Western']\n",
    "\n",
    "#Visualization\n",
    "\n",
    "N=19\n",
    "locations = np.arange(N)\n",
    "gens = [Action,Adventure,Comedy,Crime,Documentary,Drama,Family,Fantasy,Foreign,History,Horror,Music,Mystery,Romance,Science_Fiction,TV_Movie,Thriller,War,Western]\n",
    "labels = ['Action','Adventure','Comedy','Crime','Documentary','Drama','Family','Fantasy','Foreign','History','Horror','Music','Mystery','Romance','Science_Fiction','TV_Movie','Thriller','War','Western']\n",
    "plt.bar(locations,gens,tick_label=labels),\n",
    "plt.xticks(locations,rotation=90)\n",
    "plt.title('No.of Movies by genres')\n",
    "plt.xlabel('genres')\n",
    "plt.ylabel('No.of Movies')\n",
    "\n",
    "\n",
    "#COMMUNICATION - In the Last 5 years, Drama genre tops the list with more number of movies followed by comedy genre."
   ]
  },
  {
   "cell_type": "code",
   "execution_count": 32,
   "metadata": {},
   "outputs": [
    {
     "data": {
      "text/html": [
       "<div>\n",
       "<style>\n",
       "    .dataframe thead tr:only-child th {\n",
       "        text-align: right;\n",
       "    }\n",
       "\n",
       "    .dataframe thead th {\n",
       "        text-align: left;\n",
       "    }\n",
       "\n",
       "    .dataframe tbody tr th {\n",
       "        vertical-align: top;\n",
       "    }\n",
       "</style>\n",
       "<table border=\"1\" class=\"dataframe\">\n",
       "  <thead>\n",
       "    <tr style=\"text-align: right;\">\n",
       "      <th></th>\n",
       "      <th>id</th>\n",
       "      <th>popularity</th>\n",
       "      <th>budget</th>\n",
       "      <th>revenue</th>\n",
       "      <th>runtime</th>\n",
       "      <th>vote_count</th>\n",
       "      <th>vote_average</th>\n",
       "      <th>release_year</th>\n",
       "      <th>budget_adj</th>\n",
       "      <th>revenue_adj</th>\n",
       "    </tr>\n",
       "  </thead>\n",
       "  <tbody>\n",
       "    <tr>\n",
       "      <th>count</th>\n",
       "      <td>10843.000000</td>\n",
       "      <td>10843.000000</td>\n",
       "      <td>1.084300e+04</td>\n",
       "      <td>1.084300e+04</td>\n",
       "      <td>10843.000000</td>\n",
       "      <td>10843.000000</td>\n",
       "      <td>10843.000000</td>\n",
       "      <td>10843.000000</td>\n",
       "      <td>1.084300e+04</td>\n",
       "      <td>1.084300e+04</td>\n",
       "    </tr>\n",
       "    <tr>\n",
       "      <th>mean</th>\n",
       "      <td>65868.491930</td>\n",
       "      <td>0.647456</td>\n",
       "      <td>1.465672e+07</td>\n",
       "      <td>3.990779e+07</td>\n",
       "      <td>102.137508</td>\n",
       "      <td>217.813705</td>\n",
       "      <td>5.973974</td>\n",
       "      <td>2001.315595</td>\n",
       "      <td>1.758827e+07</td>\n",
       "      <td>5.147332e+07</td>\n",
       "    </tr>\n",
       "    <tr>\n",
       "      <th>std</th>\n",
       "      <td>91977.394803</td>\n",
       "      <td>1.000986</td>\n",
       "      <td>3.093864e+07</td>\n",
       "      <td>1.171131e+08</td>\n",
       "      <td>31.293320</td>\n",
       "      <td>576.155351</td>\n",
       "      <td>0.934260</td>\n",
       "      <td>12.813298</td>\n",
       "      <td>3.433299e+07</td>\n",
       "      <td>1.447664e+08</td>\n",
       "    </tr>\n",
       "    <tr>\n",
       "      <th>min</th>\n",
       "      <td>5.000000</td>\n",
       "      <td>0.000065</td>\n",
       "      <td>0.000000e+00</td>\n",
       "      <td>0.000000e+00</td>\n",
       "      <td>0.000000</td>\n",
       "      <td>10.000000</td>\n",
       "      <td>1.500000</td>\n",
       "      <td>1960.000000</td>\n",
       "      <td>0.000000e+00</td>\n",
       "      <td>0.000000e+00</td>\n",
       "    </tr>\n",
       "    <tr>\n",
       "      <th>25%</th>\n",
       "      <td>10589.500000</td>\n",
       "      <td>0.208253</td>\n",
       "      <td>0.000000e+00</td>\n",
       "      <td>0.000000e+00</td>\n",
       "      <td>90.000000</td>\n",
       "      <td>17.000000</td>\n",
       "      <td>5.400000</td>\n",
       "      <td>1995.000000</td>\n",
       "      <td>0.000000e+00</td>\n",
       "      <td>0.000000e+00</td>\n",
       "    </tr>\n",
       "    <tr>\n",
       "      <th>50%</th>\n",
       "      <td>20558.000000</td>\n",
       "      <td>0.384555</td>\n",
       "      <td>0.000000e+00</td>\n",
       "      <td>0.000000e+00</td>\n",
       "      <td>99.000000</td>\n",
       "      <td>38.000000</td>\n",
       "      <td>6.000000</td>\n",
       "      <td>2006.000000</td>\n",
       "      <td>0.000000e+00</td>\n",
       "      <td>0.000000e+00</td>\n",
       "    </tr>\n",
       "    <tr>\n",
       "      <th>75%</th>\n",
       "      <td>75182.000000</td>\n",
       "      <td>0.715349</td>\n",
       "      <td>1.500000e+07</td>\n",
       "      <td>2.413675e+07</td>\n",
       "      <td>111.000000</td>\n",
       "      <td>146.000000</td>\n",
       "      <td>6.600000</td>\n",
       "      <td>2011.000000</td>\n",
       "      <td>2.093530e+07</td>\n",
       "      <td>3.387655e+07</td>\n",
       "    </tr>\n",
       "    <tr>\n",
       "      <th>max</th>\n",
       "      <td>417859.000000</td>\n",
       "      <td>32.985763</td>\n",
       "      <td>4.250000e+08</td>\n",
       "      <td>2.781506e+09</td>\n",
       "      <td>900.000000</td>\n",
       "      <td>9767.000000</td>\n",
       "      <td>9.200000</td>\n",
       "      <td>2015.000000</td>\n",
       "      <td>4.250000e+08</td>\n",
       "      <td>2.827124e+09</td>\n",
       "    </tr>\n",
       "  </tbody>\n",
       "</table>\n",
       "</div>"
      ],
      "text/plain": [
       "                  id    popularity        budget       revenue       runtime  \\\n",
       "count   10843.000000  10843.000000  1.084300e+04  1.084300e+04  10843.000000   \n",
       "mean    65868.491930      0.647456  1.465672e+07  3.990779e+07    102.137508   \n",
       "std     91977.394803      1.000986  3.093864e+07  1.171131e+08     31.293320   \n",
       "min         5.000000      0.000065  0.000000e+00  0.000000e+00      0.000000   \n",
       "25%     10589.500000      0.208253  0.000000e+00  0.000000e+00     90.000000   \n",
       "50%     20558.000000      0.384555  0.000000e+00  0.000000e+00     99.000000   \n",
       "75%     75182.000000      0.715349  1.500000e+07  2.413675e+07    111.000000   \n",
       "max    417859.000000     32.985763  4.250000e+08  2.781506e+09    900.000000   \n",
       "\n",
       "         vote_count  vote_average  release_year    budget_adj   revenue_adj  \n",
       "count  10843.000000  10843.000000  10843.000000  1.084300e+04  1.084300e+04  \n",
       "mean     217.813705      5.973974   2001.315595  1.758827e+07  5.147332e+07  \n",
       "std      576.155351      0.934260     12.813298  3.433299e+07  1.447664e+08  \n",
       "min       10.000000      1.500000   1960.000000  0.000000e+00  0.000000e+00  \n",
       "25%       17.000000      5.400000   1995.000000  0.000000e+00  0.000000e+00  \n",
       "50%       38.000000      6.000000   2006.000000  0.000000e+00  0.000000e+00  \n",
       "75%      146.000000      6.600000   2011.000000  2.093530e+07  3.387655e+07  \n",
       "max     9767.000000      9.200000   2015.000000  4.250000e+08  2.827124e+09  "
      ]
     },
     "execution_count": 32,
     "metadata": {},
     "output_type": "execute_result"
    }
   ],
   "source": [
    "df.describe()"
   ]
  },
  {
   "cell_type": "markdown",
   "metadata": {},
   "source": [
    "### 2. Genre vs Revenue_adj\n",
    "### 3. Genre vs Budjet_adj\n",
    "### 4. Genre vs Popularity\n",
    "### 5. Genre vs Vote_Avg\n",
    "### 6. Co-relation between Budjet_adj and Revenue_adj"
   ]
  },
  {
   "cell_type": "code",
   "execution_count": 27,
   "metadata": {},
   "outputs": [
    {
     "data": {
      "text/plain": [
       "Text(0,0.5,'Revenue_adj')"
      ]
     },
     "execution_count": 27,
     "metadata": {},
     "output_type": "execute_result"
    },
    {
     "data": {
      "image/png": "[encoded data removed]",
      "text/plain": [
       "<matplotlib.figure.Figure at 0x7f1fcd367438>"
      ]
     },
     "metadata": {},
     "output_type": "display_data"
    }
   ],
   "source": [
    "#2 - Genre Vs Revenue_adj\n",
    "\n",
    "df_r = df.groupby(['genres'])['revenue_adj'].mean()\n",
    "\n",
    "Action = df_r['Action'].round()\n",
    "Adventure = df_r['Adventure'].round()\n",
    "Animation = df_r['Animation'].round()\n",
    "Comedy = df_r['Comedy'].round()\n",
    "Crime = df_r['Crime'].round()\n",
    "Documentary = df_r['Documentary'].round()\n",
    "Drama = df_r['Drama'].round()\n",
    "Family = df_r['Family'].round()\n",
    "Fantasy = df_r['Fantasy'].round()\n",
    "#Foreign = df_r['Foreign'].round()\n",
    "History = df_r['History'].round()\n",
    "Horror = df_r['Horror'].round()\n",
    "Music = df_r['Music'].round()\n",
    "Mystery = df_r['Mystery'].round()\n",
    "Romance = df_r['Romance'].round()\n",
    "Science_Fiction = df_r['Science Fiction'].round()\n",
    "TV_Movie = df_r['TV Movie'].round()\n",
    "Thriller = df_r['Thriller'].round()\n",
    "War = df_r['War'].round()\n",
    "Western = df_r['Western'].round()\n",
    "\n",
    "#Visualization\n",
    "\n",
    "N=18\n",
    "locations = np.arange(N)\n",
    "gens = [Action,Adventure,Comedy,Crime,Documentary,Drama,Family,Fantasy,History,Horror,Music,Mystery,Romance,Science_Fiction,TV_Movie,Thriller,War,Western]\n",
    "labels = ['Action','Adventure','Comedy','Crime','Documentary','Drama','Family','Fantasy','History','Horror','Music','Mystery','Romance','Science_Fiction','TV_Movie','Thriller','War','Western']\n",
    "plt.bar(locations,gens,tick_label=labels),\n",
    "plt.xticks(locations,rotation=90)\n",
    "plt.title('Genre Vs Revenue_adj')\n",
    "plt.xlabel('Genres')\n",
    "plt.ylabel('Revenue_adj')\n",
    "\n",
    "\n",
    "# COMMUNICATION - Adventure movies produced more revenue when compared to all other genres, Also science_fiction movies\n",
    "# as well produced good amount of revenue.\n",
    "\n"
   ]
  },
  {
   "cell_type": "code",
   "execution_count": 28,
   "metadata": {},
   "outputs": [
    {
     "data": {
      "text/plain": [
       "Text(0,0.5,'Budget_adj')"
      ]
     },
     "execution_count": 28,
     "metadata": {},
     "output_type": "execute_result"
    },
    {
     "data": {
      "image/png": "[encoded data removed]",
      "text/plain": [
       "<matplotlib.figure.Figure at 0x7f1fcc9ac748>"
      ]
     },
     "metadata": {},
     "output_type": "display_data"
    }
   ],
   "source": [
    "#3 - Genre Vs Budjet_adj\n",
    "\n",
    "df_b = df.groupby(['genres'])['budget_adj'].mean() \n",
    "\n",
    "Action = df_b['Action'].round()\n",
    "Adventure = df_b['Adventure'].round()\n",
    "Animation = df_b['Animation'].round()\n",
    "Comedy = df_b['Comedy'].round()\n",
    "Crime = df_b['Crime'].round()\n",
    "Documentary = df_b['Documentary'].round()\n",
    "Drama = df_b['Drama'].round()\n",
    "Family = df_b['Family'].round()\n",
    "Fantasy = df_b['Fantasy'].round()\n",
    "#Foreign = df_b['Foreign'].round()\n",
    "History = df_b['History'].round()\n",
    "Horror = df_b['Horror'].round()\n",
    "Music = df_b['Music'].round()\n",
    "Mystery = df_b['Mystery'].round()\n",
    "Romance = df_b['Romance'].round()\n",
    "Science_Fiction = df_b['Science Fiction'].round()\n",
    "TV_Movie = df_b['TV Movie'].round()\n",
    "Thriller = df_b['Thriller'].round()\n",
    "War = df_b['War'].round()\n",
    "Western = df_b['Western'].round()\n",
    "\n",
    "#Visualization\n",
    "\n",
    "N=18\n",
    "locations = np.arange(N)\n",
    "gens = [Action,Adventure,Comedy,Crime,Documentary,Drama,Family,Fantasy,History,Horror,Music,Mystery,Romance,Science_Fiction,TV_Movie,Thriller,War,Western]\n",
    "labels = ['Action','Adventure','Comedy','Crime','Documentary','Drama','Family','Fantasy','History','Horror','Music','Mystery','Romance','Science_Fiction','TV_Movie','Thriller','War','Western']\n",
    "plt.bar(locations,gens,tick_label=labels),\n",
    "plt.xticks(locations,rotation=90)\n",
    "plt.title('Genre Vs Budget_adj')\n",
    "plt.xlabel('Genres')\n",
    "plt.ylabel('Budget_adj')\n",
    "\n",
    "\n",
    "# COMMUNICATION - Adventure genre movies are made with huge budget than any other genres \n",
    "# also they are producing more revenue. Suprisingly Action movies are made with more budjet but producing less revenue."
   ]
  },
  {
   "cell_type": "code",
   "execution_count": 30,
   "metadata": {},
   "outputs": [
    {
     "data": {
      "text/plain": [
       "Text(0,0.5,'Popularity')"
      ]
     },
     "execution_count": 30,
     "metadata": {},
     "output_type": "execute_result"
    },
    {
     "data": {
      "image/png": "[encoded data removed]",
      "text/plain": [
       "<matplotlib.figure.Figure at 0x7f1fcc910eb8>"
      ]
     },
     "metadata": {},
     "output_type": "display_data"
    }
   ],
   "source": [
    "#4 - Genre Vs Popularity\n",
    "\n",
    "df_p = df.groupby(['genres'])['popularity'].mean() \n",
    "\n",
    "Action = df_p['Action']\n",
    "Adventure = df_p['Adventure']\n",
    "Animation = df_p['Animation']\n",
    "Comedy = df_p['Comedy']\n",
    "Crime = df_p['Crime']\n",
    "Documentary = df_p['Documentary']\n",
    "Drama = df_p['Drama']\n",
    "Family = df_p['Family']\n",
    "Fantasy = df_p['Fantasy']\n",
    "#Foreign = df_b['Foreign'].round()\n",
    "History = df_p['History']\n",
    "Horror = df_p['Horror']\n",
    "Music = df_p['Music']\n",
    "Mystery = df_p['Mystery']\n",
    "Romance = df_p['Romance']\n",
    "Science_Fiction = df_p['Science Fiction']\n",
    "TV_Movie = df_p['TV Movie']\n",
    "Thriller = df_p['Thriller']\n",
    "War = df_p['War']\n",
    "Western = df_p['Western']\n",
    "\n",
    "#Visualization\n",
    "\n",
    "N=18\n",
    "locations = np.arange(N)\n",
    "gens = [Action,Adventure,Comedy,Crime,Documentary,Drama,Family,Fantasy,History,Horror,Music,Mystery,Romance,Science_Fiction,TV_Movie,Thriller,War,Western]\n",
    "labels = ['Action','Adventure','Comedy','Crime','Documentary','Drama','Family','Fantasy','History','Horror','Music','Mystery','Romance','Science_Fiction','TV_Movie','Thriller','War','Western']\n",
    "plt.bar(locations,gens,tick_label=labels),\n",
    "plt.xticks(locations,rotation=90)\n",
    "plt.title('Genre Vs Popularity')\n",
    "plt.xlabel('Genres')\n",
    "plt.ylabel('Popularity')\n",
    "\n",
    "\n",
    "#Communication - Adventure and Science Fiction are more popular among the people and Documentry gets least poplularity."
   ]
  },
  {
   "cell_type": "code",
   "execution_count": 49,
   "metadata": {},
   "outputs": [
    {
     "data": {
      "text/plain": [
       "Text(0,0.5,'vote_average')"
      ]
     },
     "execution_count": 49,
     "metadata": {},
     "output_type": "execute_result"
    },
    {
     "data": {
      "image/png": "[encoded data removed]",
      "text/plain": [
       "<matplotlib.figure.Figure at 0x7f1fcc7d1550>"
      ]
     },
     "metadata": {},
     "output_type": "display_data"
    }
   ],
   "source": [
    "#5 Genre vs Vote_Avg\n",
    "\n",
    "df_v = df.groupby(['genres'])['vote_average'].mean() \n",
    "\n",
    "\n",
    "Action = df_v['Action']\n",
    "Adventure = df_v['Adventure']\n",
    "Animation = df_v['Animation']\n",
    "Comedy = df_v['Comedy']\n",
    "Crime = df_v['Crime']\n",
    "Documentary = df_v['Documentary']\n",
    "Drama = df_v['Drama']\n",
    "Family = df_v['Family']\n",
    "Fantasy = df_v['Fantasy']\n",
    "#Foreign = df_b['Foreign'].round()\n",
    "History = df_v['History']\n",
    "Horror = df_v['Horror']\n",
    "Music = df_v['Music']\n",
    "Mystery = df_v['Mystery']\n",
    "Romance = df_v['Romance']\n",
    "Science_Fiction = df_v['Science Fiction']\n",
    "TV_Movie = df_v['TV Movie']\n",
    "Thriller = df_v['Thriller']\n",
    "War = df_v['War']\n",
    "Western = df_v['Western']\n",
    "\n",
    "#Visualization\n",
    "\n",
    "N=18\n",
    "locations = np.arange(N)\n",
    "gens = [Action,Adventure,Comedy,Crime,Documentary,Drama,Family,Fantasy,History,Horror,Music,Mystery,Romance,Science_Fiction,TV_Movie,Thriller,War,Western]\n",
    "labels = ['Action','Adventure','Comedy','Crime','Documentary','Drama','Family','Fantasy','History','Horror','Music','Mystery','Romance','Science_Fiction','TV_Movie','Thriller','War','Western']\n",
    "plt.bar(locations,gens,tick_label=labels),\n",
    "plt.xticks(locations,rotation=90)\n",
    "plt.title('Genre Vs vote_average')\n",
    "plt.xlabel('Genres')\n",
    "plt.ylabel('vote_average')\n",
    "\n",
    "#Communication: Documentry tops the list with highest voting Average than any other genres.\n"
   ]
  },
  {
   "cell_type": "code",
   "execution_count": 50,
   "metadata": {},
   "outputs": [
    {
     "data": {
      "text/plain": [
       "Text(0,0.5,'Budget_adj')"
      ]
     },
     "execution_count": 50,
     "metadata": {},
     "output_type": "execute_result"
    },
    {
     "data": {
      "image/png": "[encoded data removed]",
      "text/plain": [
       "<matplotlib.figure.Figure at 0x7f1fcc1e7be0>"
      ]
     },
     "metadata": {},
     "output_type": "display_data"
    }
   ],
   "source": [
    "#6 Budjet_adj vs Revenue_adj\n",
    "\n",
    "df_r = df.groupby(['genres'])['revenue_adj'].mean()\n",
    "df_b = df.groupby(['genres'])['budget_adj'].mean()\n",
    "\n",
    "\n",
    "\n",
    "plt.scatter(df_r,df_b)\n",
    "plt.title('Budget_adj Vs Revenue_adj')\n",
    "plt.xlabel('Revenue_adj')\n",
    "plt.ylabel('Budget_adj')\n",
    "\n",
    "\n",
    "#Communication: Budget and Revenue shows a good postive co-relation."
   ]
  },
  {
   "cell_type": "code",
   "execution_count": null,
   "metadata": {
    "collapsed": true
   },
   "outputs": [],
   "source": [
    "#Conclusions:\n",
    " # Able to analyze the movie dataset by considering genre as a main factor.\n",
    " # Able to predict which could be possibly be the genre that people like or dislike most     \n",
    " # Able to predict the relation between budget and revenue factors\n",
    " # we can further investigate this dataset by taking other factors like production companies,cast list,runtime etc.\n",
    "\n",
    "    "
   ]
  },
  {
   "cell_type": "code",
   "execution_count": 53,
   "metadata": {},
   "outputs": [
    {
     "data": {
      "text/plain": [
       "0"
      ]
     },
     "execution_count": 53,
     "metadata": {},
     "output_type": "execute_result"
    }
   ],
   "source": [
    "from subprocess import call\n",
    "call(['python', '-m', 'nbconvert', 'Investigate_a_Dataset.ipynb'])"
   ]
  }
 ],
 "metadata": {
  "kernelspec": {
   "display_name": "Python [default]",
   "language": "python",
   "name": "python3"
  },
  "language_info": {
   "codemirror_mode": {
    "name": "ipython",
    "version": 3
   },
   "file_extension": ".py",
   "mimetype": "text/x-python",
   "name": "python",
   "nbconvert_exporter": "python",
   "pygments_lexer": "ipython3",
   "version": "3.6.3"
  }
 },
 "nbformat": 4,
 "nbformat_minor": 2
}
